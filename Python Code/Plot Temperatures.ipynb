{
 "cells": [
  {
   "cell_type": "markdown",
   "metadata": {},
   "source": [
    "The `serial` library is not installed by default. The command for installing is `pip install pyserial`. Then you can run the following."
   ]
  },
  {
   "cell_type": "code",
   "execution_count": 1,
   "metadata": {},
   "outputs": [
    {
     "name": "stdout",
     "output_type": "stream",
     "text": [
      "Using matplotlib backend: Qt5Agg\n",
      "Populating the interactive namespace from numpy and matplotlib\n"
     ]
    }
   ],
   "source": [
    "%pylab\n",
    "\n",
    "import serial\n",
    "import serial.tools.list_ports"
   ]
  },
  {
   "cell_type": "code",
   "execution_count": 2,
   "metadata": {},
   "outputs": [
    {
     "name": "stdout",
     "output_type": "stream",
     "text": [
      "COM4\n"
     ]
    }
   ],
   "source": [
    "for port in serial.tools.list_ports.comports():\n",
    "    print(port.device)"
   ]
  },
  {
   "cell_type": "code",
   "execution_count": 7,
   "metadata": {},
   "outputs": [],
   "source": [
    "ser = serial.Serial('COM4', 9600)\n",
    "ser.timeout = 2"
   ]
  },
  {
   "cell_type": "code",
   "execution_count": 5,
   "metadata": {},
   "outputs": [],
   "source": [
    "ser.close()"
   ]
  },
  {
   "cell_type": "code",
   "execution_count": 8,
   "metadata": {},
   "outputs": [
    {
     "data": {
      "text/plain": [
       "True"
      ]
     },
     "execution_count": 8,
     "metadata": {},
     "output_type": "execute_result"
    }
   ],
   "source": [
    "ser.isOpen()"
   ]
  },
  {
   "cell_type": "code",
   "execution_count": 22,
   "metadata": {},
   "outputs": [],
   "source": [
    "# use this line for reading actual data from Arduino\n",
    "temperaturestr = ser.readline().decode('utf-8')"
   ]
  },
  {
   "cell_type": "code",
   "execution_count": 1,
   "metadata": {
    "collapsed": true
   },
   "outputs": [],
   "source": [
    "# use this line for testing without Arduino\n",
    "temperaturestr = \"1 2 3 4 5 6 7 8 11 120\\n\""
   ]
  },
  {
   "cell_type": "code",
   "execution_count": 23,
   "metadata": {},
   "outputs": [
    {
     "name": "stdout",
     "output_type": "stream",
     "text": [
      "206 216 217 214 214 218 217 217 218 1023 \n",
      "\n"
     ]
    }
   ],
   "source": [
    "print(temperaturestr)"
   ]
  },
  {
   "cell_type": "code",
   "execution_count": 13,
   "metadata": {},
   "outputs": [],
   "source": [
    "temperaturestrlist = temperaturestr.strip().split(sep = ' ')"
   ]
  },
  {
   "cell_type": "code",
   "execution_count": 14,
   "metadata": {},
   "outputs": [
    {
     "data": {
      "text/plain": [
       "['206', '216', '217', '214', '214', '218', '217', '217', '218', '1023']"
      ]
     },
     "execution_count": 14,
     "metadata": {},
     "output_type": "execute_result"
    }
   ],
   "source": [
    "temperaturestrlist"
   ]
  },
  {
   "cell_type": "code",
   "execution_count": 15,
   "metadata": {},
   "outputs": [],
   "source": [
    "templist = []\n",
    "for tempstr in temperaturestrlist:\n",
    "    temp = float(tempstr)\n",
    "    templist.append(temp)"
   ]
  },
  {
   "cell_type": "code",
   "execution_count": 16,
   "metadata": {},
   "outputs": [
    {
     "data": {
      "text/plain": [
       "[206.0, 216.0, 217.0, 214.0, 214.0, 218.0, 217.0, 217.0, 218.0, 1023.0]"
      ]
     },
     "execution_count": 16,
     "metadata": {},
     "output_type": "execute_result"
    }
   ],
   "source": [
    "templist"
   ]
  },
  {
   "cell_type": "code",
   "execution_count": 24,
   "metadata": {},
   "outputs": [
    {
     "data": {
      "text/plain": [
       "Text(0.5,1,'Temperature along Pipe')"
      ]
     },
     "execution_count": 24,
     "metadata": {},
     "output_type": "execute_result"
    }
   ],
   "source": [
    "plot(templist, marker = 'o')\n",
    "xlabel('Sensor Number')\n",
    "ylabel('Temperature (C)')\n",
    "title('Temperature along Pipe')"
   ]
  },
  {
   "cell_type": "code",
   "execution_count": 31,
   "metadata": {},
   "outputs": [],
   "source": [
    "ser.flushInput()\n",
    "ser.readline()\n",
    "count = 0\n",
    "while True:\n",
    "    temperaturestr = ser.readline().decode('utf-8').strip()\n",
    "    # print(\"Read:\", temperaturestr)\n",
    "    \n",
    "    # I have the Arduino output the word 'Reset' during initialization.\n",
    "    # This way, pushing the reset button on the Arduino will cause this loop to\n",
    "    # end gracefully using the following code\n",
    "    if temperaturestr == \"Reset\":\n",
    "        break\n",
    "    \n",
    "    temperaturestrlist = temperaturestr.strip().split(sep = ' ')\n",
    "    for i, tempstr in enumerate(temperaturestrlist):\n",
    "        temp = valueToTemp(float(tempstr))\n",
    "        templist[i] = temp\n",
    "    \n",
    "    # do something with templist\n",
    "    \n",
    "    count += 1\n"
   ]
  },
  {
   "cell_type": "code",
   "execution_count": null,
   "metadata": {
    "collapsed": true
   },
   "outputs": [],
   "source": []
  }
 ],
 "metadata": {
  "kernelspec": {
   "display_name": "Python 3",
   "language": "python",
   "name": "python3"
  },
  "language_info": {
   "codemirror_mode": {
    "name": "ipython",
    "version": 3
   },
   "file_extension": ".py",
   "mimetype": "text/x-python",
   "name": "python",
   "nbconvert_exporter": "python",
   "pygments_lexer": "ipython3",
   "version": "3.7.4"
  }
 },
 "nbformat": 4,
 "nbformat_minor": 2
}
